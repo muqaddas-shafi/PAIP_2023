{
 "cells": [
  {
   "cell_type": "code",
   "execution_count": 48,
   "id": "b31d3080-ac7b-4137-907a-c29a61a0728f",
   "metadata": {
    "execution": {
     "iopub.execute_input": "2023-02-05T16:20:40.651243Z",
     "iopub.status.busy": "2023-02-05T16:20:40.650892Z",
     "iopub.status.idle": "2023-02-05T16:20:40.656193Z",
     "shell.execute_reply": "2023-02-05T16:20:40.655229Z",
     "shell.execute_reply.started": "2023-02-05T16:20:40.651217Z"
    }
   },
   "outputs": [],
   "source": [
    "#libraries used\n",
    "import cv2\n",
    "import numpy as np\n",
    "from matplotlib import pyplot as plt\n",
    "from scipy import ndimage\n",
    "from skimage import measure, color, io\n",
    "from glob import glob"
   ]
  },
  {
   "cell_type": "code",
   "execution_count": 49,
   "id": "9e5ec9d0-5a06-45ae-9b82-23234abca750",
   "metadata": {
    "execution": {
     "iopub.execute_input": "2023-02-05T16:20:43.305641Z",
     "iopub.status.busy": "2023-02-05T16:20:43.304973Z",
     "iopub.status.idle": "2023-02-05T16:20:43.310486Z",
     "shell.execute_reply": "2023-02-05T16:20:43.309460Z",
     "shell.execute_reply.started": "2023-02-05T16:20:43.305615Z"
    }
   },
   "outputs": [],
   "source": [
    "#getting multichannel masks path \n",
    "masks_path = sorted(glob(\"validation_data/rgb_masks/*.png\"))\n",
    "# print(len(masks_path))\n",
    "masks_path[0].split('/')[-1]"
   ]
  },
  {
   "cell_type": "code",
   "execution_count": 50,
   "id": "6ead1461-d6d5-4e2f-b0b9-cd0f1fd0f017",
   "metadata": {
    "execution": {
     "iopub.execute_input": "2023-02-05T16:20:46.074758Z",
     "iopub.status.busy": "2023-02-05T16:20:46.074301Z",
     "iopub.status.idle": "2023-02-05T16:20:46.080274Z",
     "shell.execute_reply": "2023-02-05T16:20:46.078831Z",
     "shell.execute_reply.started": "2023-02-05T16:20:46.074732Z"
    }
   },
   "outputs": [],
   "source": [
    "#Dictionaries to store total tumrous and non tumrous nuclei in images\n",
    "total_tumrous_nuclei = {}\n",
    "total_nontumrous_nuclei = {}"
   ]
  },
  {
   "cell_type": "code",
   "execution_count": 51,
   "id": "dee3e14e-c81a-40a9-b735-558cb2403ba3",
   "metadata": {
    "execution": {
     "iopub.execute_input": "2023-02-05T16:20:50.254784Z",
     "iopub.status.busy": "2023-02-05T16:20:50.253437Z",
     "iopub.status.idle": "2023-02-05T16:20:51.619986Z",
     "shell.execute_reply": "2023-02-05T16:20:51.619033Z",
     "shell.execute_reply.started": "2023-02-05T16:20:50.254747Z"
    }
   },
   "outputs": [],
   "source": [
    "#calculating total tumrous nuclei of all images and storing the value in dict along with their names\n",
    "for i, image in enumerate(masks_path):\n",
    "    img1 = cv2.imread(image)\n",
    "    img = img1[:, :, 0]\n",
    "    ret1, thresh = cv2.threshold(img, 0, 215, cv2.THRESH_BINARY+cv2.THRESH_OTSU)\n",
    "    kernal = np.ones((3,3), np.uint8)\n",
    "    opening = cv2.morphologyEx(thresh, cv2.MORPH_OPEN, kernal, iterations = 4)\n",
    "    sure_bg = cv2.dilate(opening, kernal, iterations= 5)\n",
    "    dist_transform = cv2.distanceTransform(opening, cv2.DIST_L2,3)\n",
    "    ret2, sure_fg = cv2.threshold(dist_transform, 0.2*dist_transform.max(),215,0)\n",
    "    sure_fg = np.uint8(sure_fg)\n",
    "    unknown = cv2.subtract(sure_bg,sure_fg)\n",
    "    ret3, markers = cv2.connectedComponents(sure_fg)\n",
    "    markers = markers + 10\n",
    "    markers[unknown==215] = 0\n",
    "    markers = cv2.watershed(img1, markers)\n",
    "    img1[markers == -1] = [0, 255, 255]\n",
    "    img2 = color.label2rgb(markers, bg_label=0)\n",
    "    \n",
    "    regions = measure.regionprops(markers, intensity_image = img)\n",
    "    \n",
    "    nuclei_number = 1\n",
    "    for region_props in regions:\n",
    "        nuclei_number += 1\n",
    "    \n",
    "    total_tumrous_nuclei[f\"{masks_path[i].split('/')[-1]}\"] = nuclei_number"
   ]
  },
  {
   "cell_type": "code",
   "execution_count": 52,
   "id": "d89220f3-b571-4e83-9e8a-7ae31a64e027",
   "metadata": {
    "execution": {
     "iopub.execute_input": "2023-02-05T16:20:55.491226Z",
     "iopub.status.busy": "2023-02-05T16:20:55.490881Z",
     "iopub.status.idle": "2023-02-05T16:20:56.745387Z",
     "shell.execute_reply": "2023-02-05T16:20:56.744494Z",
     "shell.execute_reply.started": "2023-02-05T16:20:55.491201Z"
    }
   },
   "outputs": [],
   "source": [
    "#calculating total non tumrous nuclei of all images and storing the value in dict along with their names\n",
    "for i, image in enumerate(masks_path):\n",
    "    img1 = cv2.imread(image)\n",
    "    img = img1[:, :, 1]\n",
    "    ret1, thresh = cv2.threshold(img, 0,110, cv2.THRESH_BINARY+cv2.THRESH_OTSU)\n",
    "    kernal = np.ones((3,3), np.uint8)\n",
    "    opening = cv2.morphologyEx(thresh, cv2.MORPH_OPEN, kernal, iterations = 2)\n",
    "    sure_bg = cv2.dilate(opening, kernal, iterations= 5)\n",
    "    dist_transform = cv2.distanceTransform(opening, cv2.DIST_L2,5)\n",
    "    ret2, sure_fg = cv2.threshold(dist_transform, 0.2*dist_transform.max(),215,0)\n",
    "    sure_fg = np.uint8(sure_fg)\n",
    "    unknown = cv2.subtract(sure_bg,sure_fg)\n",
    "    ret3, markers = cv2.connectedComponents(sure_fg)\n",
    "    markers = markers + 10\n",
    "    markers[unknown==110] = 0\n",
    "    markers = cv2.watershed(img1, markers)\n",
    "    img1[markers == -1] = [0, 255, 255]\n",
    "    img2 = color.label2rgb(markers, bg_label=0)\n",
    "    \n",
    "    regions = measure.regionprops(markers, intensity_image = img)\n",
    "    \n",
    "    non_tumor_nuclei_number = 1\n",
    "    for region_props in regions:\n",
    "        non_tumor_nuclei_number += 1\n",
    "    \n",
    "    total_nontumrous_nuclei[f\"{masks_path[i].split('/')[-1]}\"] = non_tumor_nuclei_number"
   ]
  },
  {
   "cell_type": "code",
   "execution_count": 53,
   "id": "664bf4bf-b0f5-4ad0-bf80-fab03bf507c9",
   "metadata": {
    "execution": {
     "iopub.execute_input": "2023-02-05T16:21:06.786545Z",
     "iopub.status.busy": "2023-02-05T16:21:06.785855Z",
     "iopub.status.idle": "2023-02-05T16:21:06.792723Z",
     "shell.execute_reply": "2023-02-05T16:21:06.791708Z",
     "shell.execute_reply.started": "2023-02-05T16:21:06.786502Z"
    }
   },
   "outputs": [
    {
     "data": {
      "text/plain": [
       "{'val_p001.png': 402,\n",
       " 'val_p002.png': 170,\n",
       " 'val_p003.png': 234,\n",
       " 'val_p004.png': 271,\n",
       " 'val_p005.png': 139,\n",
       " 'val_p006.png': 17,\n",
       " 'val_p007.png': 85,\n",
       " 'val_p008.png': 63,\n",
       " 'val_p009.png': 308,\n",
       " 'val_p010.png': 116}"
      ]
     },
     "execution_count": 53,
     "metadata": {},
     "output_type": "execute_result"
    }
   ],
   "source": [
    "total_tumrous_nuclei"
   ]
  },
  {
   "cell_type": "code",
   "execution_count": 54,
   "id": "10aa189d-da54-4134-829e-e6eda7566165",
   "metadata": {
    "execution": {
     "iopub.execute_input": "2023-02-05T16:21:13.846239Z",
     "iopub.status.busy": "2023-02-05T16:21:13.845860Z",
     "iopub.status.idle": "2023-02-05T16:21:13.852761Z",
     "shell.execute_reply": "2023-02-05T16:21:13.851817Z",
     "shell.execute_reply.started": "2023-02-05T16:21:13.846202Z"
    }
   },
   "outputs": [
    {
     "data": {
      "text/plain": [
       "{'val_p001.png': 345,\n",
       " 'val_p002.png': 226,\n",
       " 'val_p003.png': 414,\n",
       " 'val_p004.png': 604,\n",
       " 'val_p005.png': 118,\n",
       " 'val_p006.png': 88,\n",
       " 'val_p007.png': 382,\n",
       " 'val_p008.png': 124,\n",
       " 'val_p009.png': 86,\n",
       " 'val_p010.png': 50}"
      ]
     },
     "execution_count": 54,
     "metadata": {},
     "output_type": "execute_result"
    }
   ],
   "source": [
    "total_nontumrous_nuclei"
   ]
  },
  {
   "cell_type": "code",
   "execution_count": 79,
   "id": "1f037764-2e65-4a20-ae43-1997c90a4ca3",
   "metadata": {
    "execution": {
     "iopub.execute_input": "2023-02-05T16:43:07.630216Z",
     "iopub.status.busy": "2023-02-05T16:43:07.628933Z",
     "iopub.status.idle": "2023-02-05T16:43:07.635258Z",
     "shell.execute_reply": "2023-02-05T16:43:07.634488Z",
     "shell.execute_reply.started": "2023-02-05T16:43:07.630187Z"
    }
   },
   "outputs": [],
   "source": [
    "#calculating tumour cellularity\n",
    "import pandas as pd\n",
    "arr = []\n",
    "for i in range(len(total_tumrous_nuclei)):\n",
    "    name = masks_path[i].split('/')[-1]\n",
    "    x = total_tumrous_nuclei[name]\n",
    "    y = total_nontumrous_nuclei[name]\n",
    "    \n",
    "    TC = int((x / (x+y)) * 100)\n",
    "    t = (name, TC)\n",
    "    arr.append(t)"
   ]
  },
  {
   "cell_type": "code",
   "execution_count": 80,
   "id": "6e939d98-8abd-4f68-ab84-a0eec93a68be",
   "metadata": {
    "execution": {
     "iopub.execute_input": "2023-02-05T16:43:09.050799Z",
     "iopub.status.busy": "2023-02-05T16:43:09.050412Z",
     "iopub.status.idle": "2023-02-05T16:43:09.056383Z",
     "shell.execute_reply": "2023-02-05T16:43:09.055599Z",
     "shell.execute_reply.started": "2023-02-05T16:43:09.050770Z"
    }
   },
   "outputs": [],
   "source": [
    "#converting the array to dataframe\n",
    "df= pd.DataFrame(arr, columns=[\"Name\",\"TC\"])"
   ]
  },
  {
   "cell_type": "code",
   "execution_count": 81,
   "id": "fbdb5fd2-3cb8-48f3-8a3c-02a6ca7319c3",
   "metadata": {
    "execution": {
     "iopub.execute_input": "2023-02-05T16:43:10.775975Z",
     "iopub.status.busy": "2023-02-05T16:43:10.775212Z",
     "iopub.status.idle": "2023-02-05T16:43:10.787959Z",
     "shell.execute_reply": "2023-02-05T16:43:10.787150Z",
     "shell.execute_reply.started": "2023-02-05T16:43:10.775947Z"
    }
   },
   "outputs": [],
   "source": [
    "#saving df to csv file\n",
    "df.to_csv(\"Tumor_cellularity.csv\", index=False)"
   ]
  },
  {
   "cell_type": "code",
   "execution_count": null,
   "id": "0dd9a985-2fbc-451d-b8c4-e6ca0ebd00ec",
   "metadata": {},
   "outputs": [],
   "source": []
  }
 ],
 "metadata": {
  "kernelspec": {
   "display_name": "tensorflow",
   "language": "python",
   "name": "python3"
  },
  "language_info": {
   "codemirror_mode": {
    "name": "ipython",
    "version": 3
   },
   "file_extension": ".py",
   "mimetype": "text/x-python",
   "name": "python",
   "nbconvert_exporter": "python",
   "pygments_lexer": "ipython3",
   "version": "3.9.13"
  },
  "vscode": {
   "interpreter": {
    "hash": "e0a20630a16de38b904a3002af1a2902cdea59df5fba448592f4923a0d19eed2"
   }
  }
 },
 "nbformat": 4,
 "nbformat_minor": 5
}
