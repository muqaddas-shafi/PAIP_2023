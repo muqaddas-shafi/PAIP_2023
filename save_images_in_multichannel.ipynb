{
 "cells": [
  {
   "cell_type": "code",
   "execution_count": 62,
   "id": "8a5b9cda-74ca-4508-8363-08fc199340d3",
   "metadata": {
    "tags": []
   },
   "outputs": [],
   "source": [
    "#libraries used\n",
    "import cv2\n",
    "import numpy as np\n",
    "from matplotlib import pyplot as plt\n",
    "import os\n",
    "from glob import glob"
   ]
  },
  {
   "cell_type": "code",
   "execution_count": 63,
   "id": "2fe875ea-35c5-4ee2-b20b-23b02de1a5ec",
   "metadata": {
    "tags": []
   },
   "outputs": [],
   "source": [
    "#getting image paths and destination path\n",
    "image_paths = sorted(glob('/notebooks/validation_data/masks/*.png'))\n",
    "# image_paths\n",
    "destined = \"/notebooks/validation_data/rgb_masks\""
   ]
  },
  {
   "cell_type": "code",
   "execution_count": 64,
   "id": "6b52c5be-7395-4952-a240-f859009bf7a0",
   "metadata": {
    "tags": []
   },
   "outputs": [
    {
     "data": {
      "text/plain": [
       "array([ 30, 110, 215], dtype=uint8)"
      ]
     },
     "execution_count": 64,
     "metadata": {},
     "output_type": "execute_result"
    }
   ],
   "source": [
    "#Unique values in image\n",
    "x = cv2.imread(image_paths[0],0)\n",
    "np.unique(x)"
   ]
  },
  {
   "cell_type": "code",
   "execution_count": 67,
   "id": "fa3b65b7-f98f-4af4-ab66-d86b5c33b9db",
   "metadata": {
    "tags": []
   },
   "outputs": [],
   "source": [
    "#putting tumrous nuclei in r channel, non_tumrous in g channel and background b channel\n",
    "for i,image in enumerate(image_paths):\n",
    "    image = cv2.imread(image,0)\n",
    "    new_image = np.empty((1024,1024,3))\n",
    "    \n",
    "    image_cp = image.copy()\n",
    "    image_cp[image_cp==30] = 0\n",
    "    image_cp[image_cp == 110] = 0\n",
    "    new_image[:,:,0] = image_cp\n",
    "    \n",
    "    image_cp = image.copy()\n",
    "    image_cp[image_cp==30] = 0\n",
    "    image_cp[image_cp == 215] = 0\n",
    "    new_image[:,:,1] = image_cp\n",
    "    \n",
    "    image_cp = image.copy()\n",
    "    image_cp[image_cp==215] = 0\n",
    "    image_cp[image_cp == 110] = 0\n",
    "    new_image[:,:,2] = image_cp\n",
    "    \n",
    "\n",
    "    cv2.imwrite(f\"{destined}/{image_paths[i].split('/')[-1]}\", new_image)\n",
    "    # plt.imshow(new_image)"
   ]
  }
 ],
 "metadata": {
  "kernelspec": {
   "display_name": "tensorflow",
   "language": "python",
   "name": "python3"
  },
  "language_info": {
   "codemirror_mode": {
    "name": "ipython",
    "version": 3
   },
   "file_extension": ".py",
   "mimetype": "text/x-python",
   "name": "python",
   "nbconvert_exporter": "python",
   "pygments_lexer": "ipython3",
   "version": "3.9.13"
  },
  "vscode": {
   "interpreter": {
    "hash": "e0a20630a16de38b904a3002af1a2902cdea59df5fba448592f4923a0d19eed2"
   }
  }
 },
 "nbformat": 4,
 "nbformat_minor": 5
}
